{
  "nbformat": 4,
  "nbformat_minor": 0,
  "metadata": {
    "colab": {
      "name": "UAS JST_Model 1",
      "provenance": [],
      "collapsed_sections": [],
      "include_colab_link": true
    },
    "kernelspec": {
      "display_name": "Python 3",
      "language": "python",
      "name": "python3"
    },
    "language_info": {
      "codemirror_mode": {
        "name": "ipython",
        "version": 3
      },
      "file_extension": ".py",
      "mimetype": "text/x-python",
      "name": "python",
      "nbconvert_exporter": "python",
      "pygments_lexer": "ipython3",
      "version": "3.7.7"
    }
  },
  "cells": [
    {
      "cell_type": "markdown",
      "metadata": {
        "id": "view-in-github",
        "colab_type": "text"
      },
      "source": [
        "<a href=\"https://colab.research.google.com/github/RizkySyahry/bot-jst_uas/blob/main/UAS_JST_Model_1.ipynb\" target=\"_parent\"><img src=\"https://colab.research.google.com/assets/colab-badge.svg\" alt=\"Open In Colab\"/></a>"
      ]
    },
    {
      "cell_type": "markdown",
      "metadata": {
        "id": "x3vdyOb-kgYI"
      },
      "source": [
        "# IMPORT WHOLE REQUIREMENTS"
      ]
    },
    {
      "cell_type": "code",
      "metadata": {
        "id": "osqTchR6DpuB"
      },
      "source": [
        "import tensorflow as tf\n",
        "import time\n",
        "import numpy as np\n",
        "import matplotlib.pyplot as plt\n",
        "import sys\n",
        " \n",
        "from datetime import datetime\n",
        "from numpy import genfromtxt\n",
        "from tensorflow import keras\n",
        "from keras.layers import *"
      ],
      "execution_count": null,
      "outputs": []
    },
    {
      "cell_type": "markdown",
      "metadata": {
        "id": "6k5Gw5IVkeHH"
      },
      "source": [
        "# TIMER"
      ]
    },
    {
      "cell_type": "code",
      "metadata": {
        "id": "-Gxfzj0XD4M1"
      },
      "source": [
        "import time\n",
        "\n",
        "class TimerError(Exception):\n",
        "    \"\"\"A custom exception used to report errors in use of Timer class\"\"\"\n",
        "\n",
        "class Timer:\n",
        "    def __init__(self):\n",
        "        self._start_time = None\n",
        "\n",
        "    def start(self):\n",
        "        \"\"\"Start a new timer\"\"\"\n",
        "        if self._start_time is not None:\n",
        "            raise TimerError(f\"Timer is running. Use .stop() to stop it\")\n",
        "\n",
        "        self._start_time = time.perf_counter()\n",
        "\n",
        "    def stop(self):\n",
        "        \"\"\"Stop the timer, and report the elapsed time\"\"\"\n",
        "        if self._start_time is None:\n",
        "            raise TimerError(f\"Timer is not running. Use .start() to start it\")\n",
        "\n",
        "        elapsed_time = time.perf_counter() - self._start_time\n",
        "        self._start_time = None\n",
        "        print(f\"Executed time: {elapsed_time:0.4f} seconds\")"
      ],
      "execution_count": null,
      "outputs": []
    },
    {
      "cell_type": "markdown",
      "metadata": {
        "id": "CDe0910SkwfF"
      },
      "source": [
        "# Load Data I/O"
      ]
    },
    {
      "cell_type": "code",
      "metadata": {
        "colab": {
          "base_uri": "https://localhost:8080/"
        },
        "id": "2nXNaGffEBkV",
        "outputId": "55d3f46a-0f76-4f34-dd33-56c1633700af"
      },
      "source": [
        "A = np.array([])\n",
        "B = np.array([])\n",
        "\n",
        "df = genfromtxt('UAS_Dataset (3).csv', delimiter=',')\n",
        "for i in range(len(df)):\n",
        "  if(i>0):\n",
        "    A = np.append(A, [ df[i][6], df[i][7], df[i][8] ]) # np.append(A, [ df[i][0], df[i][1], df[i][2], df[i][3] ])\n",
        "    B = np.append(B, [ df[i][9], df[i][10], df[i][11] ]) # np.append(B, [ df[i][4], df[i][5] ])\n",
        "\n",
        "x_train = np.reshape(A, (-1, 3, ))\n",
        "y_train = np.reshape(B, (-1, 3, ))\n",
        "\n",
        "len(x_train), len(y_train)"
      ],
      "execution_count": null,
      "outputs": [
        {
          "output_type": "execute_result",
          "data": {
            "text/plain": [
              "(5000, 5000)"
            ]
          },
          "metadata": {
            "tags": []
          },
          "execution_count": 38
        }
      ]
    },
    {
      "cell_type": "code",
      "metadata": {
        "colab": {
          "base_uri": "https://localhost:8080/"
        },
        "id": "ULX8Ku5R2YUm",
        "outputId": "4693595a-f243-4021-c0d6-c9d291a9e523"
      },
      "source": [
        "x_train[0].shape, x_train[0], y_train[0].shape, y_train[0]"
      ],
      "execution_count": null,
      "outputs": [
        {
          "output_type": "execute_result",
          "data": {
            "text/plain": [
              "((3,),\n",
              " array([-1.72049443,  1.34942552, -0.88849616]),\n",
              " (3,),\n",
              " array([-1.50925454,  0.        , -0.14737843]))"
            ]
          },
          "metadata": {
            "tags": []
          },
          "execution_count": 39
        }
      ]
    },
    {
      "cell_type": "markdown",
      "metadata": {
        "id": "W7R-xNOUk38-"
      },
      "source": [
        "# DESIGN MODEL ANN ARCHITECTURE"
      ]
    },
    {
      "cell_type": "code",
      "metadata": {
        "id": "oIIHT-qoLhPS"
      },
      "source": [
        "model = keras.models.Sequential([\n",
        "    Dense(3, input_dim=3), # input params\n",
        "    \n",
        "    Dense(16, activation=tf.nn.sigmoid), # sigmoid, relu, leaky_relu, tanh\n",
        "    Dense(16, activation=tf.nn.sigmoid), # sigmoid, relu, leaky_relu, tanh\n",
        "    Dense(16, activation=tf.nn.sigmoid), # sigmoid, relu, leaky_relu, tanh\n",
        "    Dense(16, activation=tf.nn.sigmoid), # sigmoid, relu, leaky_relu, tanh\n",
        "    Dense(16, activation=tf.nn.sigmoid), # sigmoid, relu, leaky_relu, tanh\n",
        "   \n",
        "    Dense(3) # output params\n",
        "])\n",
        "\n",
        "\n",
        "\n",
        "\n"
      ],
      "execution_count": null,
      "outputs": []
    },
    {
      "cell_type": "markdown",
      "metadata": {
        "id": "CH6kZ3pTlJec"
      },
      "source": [
        "# ACT AND COST FUNCTION"
      ]
    },
    {
      "cell_type": "code",
      "metadata": {
        "colab": {
          "base_uri": "https://localhost:8080/"
        },
        "id": "Xn-S24kvh4fO",
        "outputId": "d494a41c-a744-4c09-b353-c34d8731e418"
      },
      "source": [
        "epoch = 1000\n",
        "batch_size = 16\n",
        "\n",
        "model.compile(\n",
        "    optimizer = tf.keras.optimizers.Adam(), \n",
        "    loss = tf.keras.losses.mean_squared_error,\n",
        "    metrics = [ 'accuracy' ]\n",
        ")\n",
        "\n",
        "print('Processing...')\n",
        "t = Timer()\n",
        "t.start()\n",
        "\n",
        "train = model.fit(\n",
        "    x_train,\n",
        "    y_train,\n",
        "    epochs = epoch,\n",
        "    verbose = 0,\n",
        "    batch_size = batch_size,\n",
        "    validation_split = 0.3\n",
        ")\n",
        "\n",
        "t.stop()\n",
        "\n",
        "score = model.evaluate(x_train, y_train)\n",
        "\n",
        "print(\"Num of Epoch: \", epoch)\n",
        "print(\"AVG Training Accuracy\", np.average(train.history['accuracy']))\n",
        "print(\"AVG Training Loss\", np.average(train.history['loss']))\n",
        "print(\"eVal Accuracy\", np.average(score[1]))\n",
        "print(\"eVal Loss\", np.average(score[0]))\n",
        "print(\"Data Size: \", sys.getsizeof(df))"
      ],
      "execution_count": null,
      "outputs": [
        {
          "output_type": "stream",
          "text": [
            "Processing...\n",
            "Executed time: 382.5019 seconds\n",
            "157/157 [==============================] - 0s 1ms/step - loss: 0.9936 - accuracy: 0.6726\n",
            "Num of Epoch:  1000\n",
            "AVG Training Accuracy 0.6765037145018578\n",
            "AVG Training Loss 0.9995733730196953\n",
            "eVal Accuracy 0.6725999712944031\n",
            "eVal Loss 0.9936323165893555\n",
            "Data Size:  800272\n"
          ],
          "name": "stdout"
        }
      ]
    },
    {
      "cell_type": "code",
      "metadata": {
        "id": "khFeyH1XbPEn"
      },
      "source": [
        "def denormalize(nx, c):\n",
        "    xm = 32.2718\n",
        "    s = 16.08198\n",
        "    if c == 'y2':\n",
        "        xm = 29\n",
        "        s = 8.918185\n",
        "    elif c == 'y3':\n",
        "          xm = 69.739\n",
        "          s = 11.79956\n",
        "    elif c == 'x1':\n",
        "          xm = 42.773\n",
        "          s = 10.33017\n",
        "    elif c == 'x2':\n",
        "          xm = 29.9412\n",
        "          s = 8.936247\n",
        "    elif c == 'x3':\n",
        "          xm = 94.8964\n",
        "          s = 8.887377\n",
        "    return (nx*s)+xm"
      ],
      "execution_count": null,
      "outputs": []
    },
    {
      "cell_type": "markdown",
      "metadata": {
        "id": "jvsD4T9WmTde"
      },
      "source": [
        "# TESTING T PREDICTING"
      ]
    },
    {
      "cell_type": "code",
      "metadata": {
        "colab": {
          "base_uri": "https://localhost:8080/"
        },
        "id": "Vzse0EjvmOU6",
        "outputId": "e2eac60a-c360-41f9-825c-de230b35dd09"
      },
      "source": [
        "row = 3\n",
        "pred = np.array([\n",
        "        x_train[row]\n",
        "])\n",
        "\n",
        "#calculating the accuracy from its result \n",
        "abs = np.absolute(\n",
        "      np.subtract(\n",
        "          model.predict(pred)[0],\n",
        "          y_train[row]\n",
        "      )\n",
        ")\n",
        "loss = np.divide(abs, y_train[row])\n",
        "acc = np.absolute(\n",
        "      np.average(1 - loss)\n",
        ")\n",
        "\n",
        "print('Input Neuron : ', x_train[row])\n",
        "print('Target: ', y_train[row])\n",
        "print('Predictive: ', model.predict(pred)[0])\n",
        "# print(\"AVG Testing Accuracy\", acc)\n",
        "\n",
        "print('denorm x1: {:0.2f}'.format(denormalize(x_train[row][0],'x1')))\n",
        "print('denorm x2: {:0.2f}'.format(denormalize(x_train[row][1],'x2')))\n",
        "print('denorm x3: {:0.2f}'.format(denormalize(x_train[row][2],'x3')))\n",
        "\n",
        "print('denorm y1: {:0.2f}'.format(denormalize(model.predict(pred)[0][0],'y1')))\n",
        "print('denorm y2: {:0.2f}'.format(denormalize(model.predict(pred)[0][1],'y2')))\n",
        "print('denorm y3: {:0.2f}'.format(denormalize(model.predict(pred)[0][2],'y3')))\n",
        "\n"
      ],
      "execution_count": null,
      "outputs": [
        {
          "output_type": "stream",
          "text": [
            "Input Neuron :  [-0.5588485  -0.32913145 -0.2133813 ]\n",
            "Target:  [-0.94962193  0.11213044  0.53061318]\n",
            "Predictive:  [-0.0641384   0.86000985  0.18414497]\n",
            "denorm x1: 37.00\n",
            "denorm x2: 27.00\n",
            "denorm x3: 93.00\n",
            "denorm y1: 31.24\n",
            "denorm y2: 36.67\n",
            "denorm y3: 71.91\n"
          ],
          "name": "stdout"
        }
      ]
    },
    {
      "cell_type": "markdown",
      "metadata": {
        "id": "QFd9DIiCmNwL"
      },
      "source": [
        "# PLOTTING LOSS AND ACCURACY"
      ]
    },
    {
      "cell_type": "code",
      "metadata": {
        "colab": {
          "base_uri": "https://localhost:8080/",
          "height": 312
        },
        "id": "oT0RJZL-MGMw",
        "outputId": "be06c630-e5d8-4c80-b301-09840ee9aef2"
      },
      "source": [
        "idx = len(train.history['loss'])\n",
        "X_COORDS = np.linspace(0 , 1, idx)\n",
        "\n",
        "plt.plot(X_COORDS, train.history['loss'], 'r-', label='Loss {:0.4f}'.format(np.average(train.history['loss'])))\n",
        "plt.plot(X_COORDS, train.history['accuracy'], 'b-', label = 'Accuracy {:0.4f}'.format(np.average(train.history['accuracy'])))\n",
        "\n",
        "plt.legend(loc=2, prop={'size': 8})\n",
        "plt.xlabel('num of iterations')\n",
        "plt.ylabel('Loss / Accuracy')\n",
        "plt.title('Training Performance in %d iterations'%epoch)\n",
        "# plt.tight_layout()\n",
        "# plt.savefig('./img/loss_acc.png')\n",
        "# plt.close\n",
        "plt.show()\n",
        "\n",
        "print(\"Loss / Accuracy Image Saved!!\")"
      ],
      "execution_count": null,
      "outputs": [
        {
          "output_type": "display_data",
          "data": {
            "image/png": "[encoded data removed]",
            "text/plain": [
              "<Figure size 432x288 with 1 Axes>"
            ]
          },
          "metadata": {
            "tags": [],
            "needs_background": "light"
          }
        },
        {
          "output_type": "stream",
          "text": [
            "Loss / Accuracy Image Saved!!\n"
          ],
          "name": "stdout"
        }
      ]
    },
    {
      "cell_type": "markdown",
      "metadata": {
        "id": "eqCHU8vJmzoi"
      },
      "source": [
        "# PLOTTING x PREDICTION IN Z (RAD)"
      ]
    },
    {
      "cell_type": "code",
      "metadata": {
        "id": "wLzlRheXMn6k"
      },
      "source": [
        "idx = 50\n",
        "X_COORDS = np.linspace(0 , 1, idx)\n",
        "\n",
        "plot_target_y1 = np.array([])\n",
        "plot_predictive_y1 = np.array([])\n",
        "plot_target_y2 = np.array([])\n",
        "plot_predictive_y2 = np.array([])\n",
        "plot_target_y3 = np.array([])\n",
        "plot_predictive_y3 = np.array([])\n",
        "suggested_y3 = np.array([])\n",
        "suggested_y2 = np.array([])\n",
        "suggested_y1 = np.array([])\n",
        "\n",
        "for i in range(idx):\n",
        "  train = model.predict(np.array([x_train[i]]))[0]\n",
        "\n",
        "  plot_target_y1 = np.append(plot_target_y1, y_train[i][0])\n",
        "  plot_predictive_y1 = np.append(plot_predictive_y1, train[0])\n",
        "  plot_target_y2 = np.append(plot_target_y2, y_train[i][1])\n",
        "  plot_predictive_y2 = np.append(plot_predictive_y2, train[1])\n",
        "  plot_target_y3 = np.append(plot_target_y3, y_train[i][2])\n",
        "  plot_predictive_y3 = np.append(plot_predictive_y3, train[2])"
      ],
      "execution_count": null,
      "outputs": []
    },
    {
      "cell_type": "code",
      "metadata": {
        "colab": {
          "base_uri": "https://localhost:8080/",
          "height": 294
        },
        "id": "S1uYCi49Mts8",
        "outputId": "f3543125-a6a5-42b6-96b7-adcdffdb8d18"
      },
      "source": [
        "plt.plot(X_COORDS, plot_target_y1, 'b-', label='Desired Y1')\n",
        "plt.plot(X_COORDS, plot_predictive_y1, 'r-', label='Predictive Y1')\n",
        "plt.xlabel('Num of Data for Y1')\n",
        "# plt.ylabel()\n",
        "plt.title('Y1 Training Accuracy in %d Motion Data'%idx)\n",
        "plt.legend(loc=2, prop={'size': 8})\n",
        "plt.show()"
      ],
      "execution_count": null,
      "outputs": [
        {
          "output_type": "display_data",
          "data": {
            "image/png": "[encoded data removed]",
            "text/plain": [
              "<Figure size 432x288 with 1 Axes>"
            ]
          },
          "metadata": {
            "tags": [],
            "needs_background": "light"
          }
        }
      ]
    },
    {
      "cell_type": "code",
      "metadata": {
        "colab": {
          "base_uri": "https://localhost:8080/",
          "height": 294
        },
        "id": "DUJk_5FycO3g",
        "outputId": "ed09a8d4-5a46-4221-a6b2-4bfc6efbef16"
      },
      "source": [
        "plt.plot(X_COORDS, plot_target_y2, 'b-', label='Desired Y2')\n",
        "plt.plot(X_COORDS, plot_predictive_y2, 'r-', label='Predictive Y2')\n",
        "plt.xlabel('Num of Data for Y2')\n",
        "# plt.ylabel('I (Ampere)')\n",
        "plt.title('Y2 Training Accuracy in %d Motion Data'%idx)\n",
        "plt.legend(loc=2, prop={'size': 8})\n",
        "plt.show()"
      ],
      "execution_count": null,
      "outputs": [
        {
          "output_type": "display_data",
          "data": {
            "image/png": "[encoded data removed]",
            "text/plain": [
              "<Figure size 432x288 with 1 Axes>"
            ]
          },
          "metadata": {
            "tags": [],
            "needs_background": "light"
          }
        }
      ]
    },
    {
      "cell_type": "code",
      "metadata": {
        "colab": {
          "base_uri": "https://localhost:8080/",
          "height": 294
        },
        "id": "82CqZVpMU43G",
        "outputId": "fcfd3aca-6bf1-485c-c6b5-c38268698cde"
      },
      "source": [
        "plt.plot(X_COORDS, plot_target_y3, 'b-', label='Desired Y3')\n",
        "plt.plot(X_COORDS, plot_predictive_y3, 'r-', label='Predictive Y3')\n",
        "plt.xlabel('Num of Data for Y3')\n",
        "# plt.ylabel()\n",
        "plt.title('Y3 Training Accuracy in %d Motion Data'%idx)\n",
        "plt.legend(loc=2, prop={'size': 8})\n",
        "plt.show()"
      ],
      "execution_count": null,
      "outputs": [
        {
          "output_type": "display_data",
          "data": {
            "image/png": "[encoded data removed]",
            "text/plain": [
              "<Figure size 432x288 with 1 Axes>"
            ]
          },
          "metadata": {
            "tags": [],
            "needs_background": "light"
          }
        }
      ]
    },
    {
      "cell_type": "markdown",
      "metadata": {
        "id": "gqkEyFnrJm0i"
      },
      "source": [
        "# Export Pre-Train Model"
      ]
    },
    {
      "cell_type": "code",
      "metadata": {
        "id": "oveyhgSjJ7OT"
      },
      "source": [
        ""
      ],
      "execution_count": null,
      "outputs": []
    },
    {
      "cell_type": "code",
      "metadata": {
        "id": "-gIZvsLIJp9D",
        "colab": {
          "base_uri": "https://localhost:8080/",
          "height": 214
        },
        "outputId": "e0c3da5a-2d4f-429d-aa1b-1c0b3e888a6c"
      },
      "source": [
        " model.save('./tmp')\n",
        " from google.colab import files\n",
        "\n",
        " !zip -r ./dnn_sampel_model.zip ./tmp\n",
        " files.download(\"./dnn_sampel_model.zip\")\n"
      ],
      "execution_count": null,
      "outputs": [
        {
          "output_type": "stream",
          "text": [
            "WARNING:absl:Found untraced functions such as dense_14_layer_call_and_return_conditional_losses, dense_14_layer_call_fn, dense_15_layer_call_and_return_conditional_losses, dense_15_layer_call_fn, dense_16_layer_call_and_return_conditional_losses while saving (showing 5 of 35). These functions will not be directly callable after loading.\n"
          ],
          "name": "stderr"
        },
        {
          "output_type": "stream",
          "text": [
            "INFO:tensorflow:Assets written to: ./tmp/assets\n"
          ],
          "name": "stdout"
        },
        {
          "output_type": "stream",
          "text": [
            "INFO:tensorflow:Assets written to: ./tmp/assets\n"
          ],
          "name": "stderr"
        },
        {
          "output_type": "stream",
          "text": [
            "  adding: tmp/ (stored 0%)\n",
            "  adding: tmp/variables/ (stored 0%)\n",
            "  adding: tmp/variables/variables.index (deflated 70%)\n",
            "  adding: tmp/variables/variables.data-00000-of-00001 (deflated 37%)\n",
            "  adding: tmp/assets/ (stored 0%)\n",
            "  adding: tmp/saved_model.pb (deflated 90%)\n",
            "  adding: tmp/keras_metadata.pb (deflated 83%)\n"
          ],
          "name": "stdout"
        },
        {
          "output_type": "display_data",
          "data": {
            "application/javascript": [
              "\n",
              "    async function download(id, filename, size) {\n",
              "      if (!google.colab.kernel.accessAllowed) {\n",
              "        return;\n",
              "      }\n",
              "      const div = document.createElement('div');\n",
              "      const label = document.createElement('label');\n",
              "      label.textContent = `Downloading \"${filename}\": `;\n",
              "      div.appendChild(label);\n",
              "      const progress = document.createElement('progress');\n",
              "      progress.max = size;\n",
              "      div.appendChild(progress);\n",
              "      document.body.appendChild(div);\n",
              "\n",
              "      const buffers = [];\n",
              "      let downloaded = 0;\n",
              "\n",
              "      const channel = await google.colab.kernel.comms.open(id);\n",
              "      // Send a message to notify the kernel that we're ready.\n",
              "      channel.send({})\n",
              "\n",
              "      for await (const message of channel.messages) {\n",
              "        // Send a message to notify the kernel that we're ready.\n",
              "        channel.send({})\n",
              "        if (message.buffers) {\n",
              "          for (const buffer of message.buffers) {\n",
              "            buffers.push(buffer);\n",
              "            downloaded += buffer.byteLength;\n",
              "            progress.value = downloaded;\n",
              "          }\n",
              "        }\n",
              "      }\n",
              "      const blob = new Blob(buffers, {type: 'application/binary'});\n",
              "      const a = document.createElement('a');\n",
              "      a.href = window.URL.createObjectURL(blob);\n",
              "      a.download = filename;\n",
              "      div.appendChild(a);\n",
              "      a.click();\n",
              "      div.remove();\n",
              "    }\n",
              "  "
            ],
            "text/plain": [
              "<IPython.core.display.Javascript object>"
            ]
          },
          "metadata": {
            "tags": []
          }
        },
        {
          "output_type": "display_data",
          "data": {
            "application/javascript": [
              "download(\"download_b4120c38-ef9a-4542-b27b-4f108b81d266\", \"dnn_sampel_model.zip\", 43371)"
            ],
            "text/plain": [
              "<IPython.core.display.Javascript object>"
            ]
          },
          "metadata": {
            "tags": []
          }
        }
      ]
    },
    {
      "cell_type": "code",
      "metadata": {
        "id": "bISdFDhO1Piy",
        "colab": {
          "base_uri": "https://localhost:8080/"
        },
        "outputId": "b1b35c10-4b81-4464-fac3-756571ea48ce"
      },
      "source": [
        "!pip install tensorflowjs\n",
        "import tensorflowjs\n",
        "!tensorflowjs_converter --input_format=tf_hub  --skip_op_check --saved_model_tags=serve --signature_name=serving_default './tmp' './tmp/tfjs_model'"
      ],
      "execution_count": null,
      "outputs": [
        {
          "output_type": "stream",
          "text": [
            "Requirement already satisfied: tensorflowjs in /usr/local/lib/python3.7/dist-packages (3.7.0)\n",
            "Requirement already satisfied: six<2,>=1.12.0 in /usr/local/lib/python3.7/dist-packages (from tensorflowjs) (1.15.0)\n",
            "Requirement already satisfied: tensorflow<3,>=2.1.0 in /usr/local/lib/python3.7/dist-packages (from tensorflowjs) (2.5.0)\n",
            "Requirement already satisfied: tensorflow-hub<0.13,>=0.7.0; python_version >= \"3\" in /usr/local/lib/python3.7/dist-packages (from tensorflowjs) (0.12.0)\n",
            "Requirement already satisfied: numpy~=1.19.2 in /usr/local/lib/python3.7/dist-packages (from tensorflow<3,>=2.1.0->tensorflowjs) (1.19.5)\n",
            "Requirement already satisfied: opt-einsum~=3.3.0 in /usr/local/lib/python3.7/dist-packages (from tensorflow<3,>=2.1.0->tensorflowjs) (3.3.0)\n",
            "Requirement already satisfied: google-pasta~=0.2 in /usr/local/lib/python3.7/dist-packages (from tensorflow<3,>=2.1.0->tensorflowjs) (0.2.0)\n",
            "Requirement already satisfied: astunparse~=1.6.3 in /usr/local/lib/python3.7/dist-packages (from tensorflow<3,>=2.1.0->tensorflowjs) (1.6.3)\n",
            "Requirement already satisfied: wrapt~=1.12.1 in /usr/local/lib/python3.7/dist-packages (from tensorflow<3,>=2.1.0->tensorflowjs) (1.12.1)\n",
            "Requirement already satisfied: gast==0.4.0 in /usr/local/lib/python3.7/dist-packages (from tensorflow<3,>=2.1.0->tensorflowjs) (0.4.0)\n",
            "Requirement already satisfied: h5py~=3.1.0 in /usr/local/lib/python3.7/dist-packages (from tensorflow<3,>=2.1.0->tensorflowjs) (3.1.0)\n",
            "Requirement already satisfied: keras-nightly~=2.5.0.dev in /usr/local/lib/python3.7/dist-packages (from tensorflow<3,>=2.1.0->tensorflowjs) (2.5.0.dev2021032900)\n",
            "Requirement already satisfied: absl-py~=0.10 in /usr/local/lib/python3.7/dist-packages (from tensorflow<3,>=2.1.0->tensorflowjs) (0.12.0)\n",
            "Requirement already satisfied: grpcio~=1.34.0 in /usr/local/lib/python3.7/dist-packages (from tensorflow<3,>=2.1.0->tensorflowjs) (1.34.1)\n",
            "Requirement already satisfied: termcolor~=1.1.0 in /usr/local/lib/python3.7/dist-packages (from tensorflow<3,>=2.1.0->tensorflowjs) (1.1.0)\n",
            "Requirement already satisfied: keras-preprocessing~=1.1.2 in /usr/local/lib/python3.7/dist-packages (from tensorflow<3,>=2.1.0->tensorflowjs) (1.1.2)\n",
            "Requirement already satisfied: tensorboard~=2.5 in /usr/local/lib/python3.7/dist-packages (from tensorflow<3,>=2.1.0->tensorflowjs) (2.5.0)\n",
            "Requirement already satisfied: wheel~=0.35 in /usr/local/lib/python3.7/dist-packages (from tensorflow<3,>=2.1.0->tensorflowjs) (0.36.2)\n",
            "Requirement already satisfied: protobuf>=3.9.2 in /usr/local/lib/python3.7/dist-packages (from tensorflow<3,>=2.1.0->tensorflowjs) (3.17.3)\n",
            "Requirement already satisfied: flatbuffers~=1.12.0 in /usr/local/lib/python3.7/dist-packages (from tensorflow<3,>=2.1.0->tensorflowjs) (1.12)\n",
            "Requirement already satisfied: typing-extensions~=3.7.4 in /usr/local/lib/python3.7/dist-packages (from tensorflow<3,>=2.1.0->tensorflowjs) (3.7.4.3)\n",
            "Requirement already satisfied: tensorflow-estimator<2.6.0,>=2.5.0rc0 in /usr/local/lib/python3.7/dist-packages (from tensorflow<3,>=2.1.0->tensorflowjs) (2.5.0)\n",
            "Requirement already satisfied: cached-property; python_version < \"3.8\" in /usr/local/lib/python3.7/dist-packages (from h5py~=3.1.0->tensorflow<3,>=2.1.0->tensorflowjs) (1.5.2)\n",
            "Requirement already satisfied: google-auth-oauthlib<0.5,>=0.4.1 in /usr/local/lib/python3.7/dist-packages (from tensorboard~=2.5->tensorflow<3,>=2.1.0->tensorflowjs) (0.4.4)\n",
            "Requirement already satisfied: markdown>=2.6.8 in /usr/local/lib/python3.7/dist-packages (from tensorboard~=2.5->tensorflow<3,>=2.1.0->tensorflowjs) (3.3.4)\n",
            "Requirement already satisfied: requests<3,>=2.21.0 in /usr/local/lib/python3.7/dist-packages (from tensorboard~=2.5->tensorflow<3,>=2.1.0->tensorflowjs) (2.23.0)\n",
            "Requirement already satisfied: tensorboard-plugin-wit>=1.6.0 in /usr/local/lib/python3.7/dist-packages (from tensorboard~=2.5->tensorflow<3,>=2.1.0->tensorflowjs) (1.8.0)\n",
            "Requirement already satisfied: werkzeug>=0.11.15 in /usr/local/lib/python3.7/dist-packages (from tensorboard~=2.5->tensorflow<3,>=2.1.0->tensorflowjs) (1.0.1)\n",
            "Requirement already satisfied: setuptools>=41.0.0 in /usr/local/lib/python3.7/dist-packages (from tensorboard~=2.5->tensorflow<3,>=2.1.0->tensorflowjs) (57.0.0)\n",
            "Requirement already satisfied: google-auth<2,>=1.6.3 in /usr/local/lib/python3.7/dist-packages (from tensorboard~=2.5->tensorflow<3,>=2.1.0->tensorflowjs) (1.32.1)\n",
            "Requirement already satisfied: tensorboard-data-server<0.7.0,>=0.6.0 in /usr/local/lib/python3.7/dist-packages (from tensorboard~=2.5->tensorflow<3,>=2.1.0->tensorflowjs) (0.6.1)\n",
            "Requirement already satisfied: requests-oauthlib>=0.7.0 in /usr/local/lib/python3.7/dist-packages (from google-auth-oauthlib<0.5,>=0.4.1->tensorboard~=2.5->tensorflow<3,>=2.1.0->tensorflowjs) (1.3.0)\n",
            "Requirement already satisfied: importlib-metadata; python_version < \"3.8\" in /usr/local/lib/python3.7/dist-packages (from markdown>=2.6.8->tensorboard~=2.5->tensorflow<3,>=2.1.0->tensorflowjs) (4.6.0)\n",
            "Requirement already satisfied: chardet<4,>=3.0.2 in /usr/local/lib/python3.7/dist-packages (from requests<3,>=2.21.0->tensorboard~=2.5->tensorflow<3,>=2.1.0->tensorflowjs) (3.0.4)\n",
            "Requirement already satisfied: certifi>=2017.4.17 in /usr/local/lib/python3.7/dist-packages (from requests<3,>=2.21.0->tensorboard~=2.5->tensorflow<3,>=2.1.0->tensorflowjs) (2021.5.30)\n",
            "Requirement already satisfied: urllib3!=1.25.0,!=1.25.1,<1.26,>=1.21.1 in /usr/local/lib/python3.7/dist-packages (from requests<3,>=2.21.0->tensorboard~=2.5->tensorflow<3,>=2.1.0->tensorflowjs) (1.24.3)\n",
            "Requirement already satisfied: idna<3,>=2.5 in /usr/local/lib/python3.7/dist-packages (from requests<3,>=2.21.0->tensorboard~=2.5->tensorflow<3,>=2.1.0->tensorflowjs) (2.10)\n",
            "Requirement already satisfied: cachetools<5.0,>=2.0.0 in /usr/local/lib/python3.7/dist-packages (from google-auth<2,>=1.6.3->tensorboard~=2.5->tensorflow<3,>=2.1.0->tensorflowjs) (4.2.2)\n",
            "Requirement already satisfied: pyasn1-modules>=0.2.1 in /usr/local/lib/python3.7/dist-packages (from google-auth<2,>=1.6.3->tensorboard~=2.5->tensorflow<3,>=2.1.0->tensorflowjs) (0.2.8)\n",
            "Requirement already satisfied: rsa<5,>=3.1.4; python_version >= \"3.6\" in /usr/local/lib/python3.7/dist-packages (from google-auth<2,>=1.6.3->tensorboard~=2.5->tensorflow<3,>=2.1.0->tensorflowjs) (4.7.2)\n",
            "Requirement already satisfied: oauthlib>=3.0.0 in /usr/local/lib/python3.7/dist-packages (from requests-oauthlib>=0.7.0->google-auth-oauthlib<0.5,>=0.4.1->tensorboard~=2.5->tensorflow<3,>=2.1.0->tensorflowjs) (3.1.1)\n",
            "Requirement already satisfied: zipp>=0.5 in /usr/local/lib/python3.7/dist-packages (from importlib-metadata; python_version < \"3.8\"->markdown>=2.6.8->tensorboard~=2.5->tensorflow<3,>=2.1.0->tensorflowjs) (3.4.1)\n",
            "Requirement already satisfied: pyasn1<0.5.0,>=0.4.6 in /usr/local/lib/python3.7/dist-packages (from pyasn1-modules>=0.2.1->google-auth<2,>=1.6.3->tensorboard~=2.5->tensorflow<3,>=2.1.0->tensorflowjs) (0.4.8)\n",
            "2021-07-14 08:18:45.099221: I tensorflow/stream_executor/platform/default/dso_loader.cc:53] Successfully opened dynamic library libcudart.so.11.0\n",
            "Loading the module using TF 2.X interface from ./tmp.\n",
            "2021-07-14 08:18:47.124639: I tensorflow/stream_executor/platform/default/dso_loader.cc:53] Successfully opened dynamic library libcuda.so.1\n",
            "2021-07-14 08:18:47.136658: E tensorflow/stream_executor/cuda/cuda_driver.cc:328] failed call to cuInit: CUDA_ERROR_NO_DEVICE: no CUDA-capable device is detected\n",
            "2021-07-14 08:18:47.136716: I tensorflow/stream_executor/cuda/cuda_diagnostics.cc:156] kernel driver does not appear to be running on this host (c00afdfd9e96): /proc/driver/nvidia/version does not exist\n",
            "2021-07-14 08:18:47.681859: I tensorflow/core/grappler/devices.cc:69] Number of eligible GPUs (core count >= 8, compute capability >= 0.0): 0\n",
            "2021-07-14 08:18:47.682737: I tensorflow/core/grappler/clusters/single_machine.cc:357] Starting new session\n",
            "2021-07-14 08:18:47.684216: I tensorflow/core/platform/profile_utils/cpu_utils.cc:114] CPU Frequency: 2299995000 Hz\n",
            "2021-07-14 08:18:47.687441: I tensorflow/core/grappler/optimizers/meta_optimizer.cc:1144] Optimization results for grappler item: graph_to_optimize\n",
            "  function_optimizer: Graph size after: 67 nodes (50), 94 edges (77), time = 1.48ms.\n",
            "  function_optimizer: function_optimizer did nothing. time = 0.029ms.\n",
            "\n",
            "2021-07-14 08:18:47.757476: I tensorflow/core/grappler/optimizers/meta_optimizer.cc:1144] Optimization results for grappler item: graph_to_optimize\n",
            "  debug_stripper: debug_stripper did nothing. time = 0.023ms.\n",
            "  model_pruner: Graph size after: 51 nodes (-16), 78 edges (-16), time = 0.434ms.\n",
            "  constant_folding: Graph size after: 37 nodes (-14), 64 edges (-14), time = 1.742ms.\n",
            "  arithmetic_optimizer: Graph size after: 37 nodes (0), 64 edges (0), time = 0.427ms.\n",
            "  dependency_optimizer: Graph size after: 35 nodes (-2), 34 edges (-30), time = 0.288ms.\n",
            "  model_pruner: Graph size after: 35 nodes (0), 34 edges (0), time = 0.101ms.\n",
            "  constant_folding: Graph size after: 35 nodes (0), 34 edges (0), time = 0.674ms.\n",
            "  arithmetic_optimizer: Graph size after: 35 nodes (0), 34 edges (0), time = 0.385ms.\n",
            "  dependency_optimizer: Graph size after: 35 nodes (0), 34 edges (0), time = 0.163ms.\n",
            "  debug_stripper: debug_stripper did nothing. time = 0.021ms.\n",
            "  model_pruner: Graph size after: 35 nodes (0), 34 edges (0), time = 0.096ms.\n",
            "  constant_folding: Graph size after: 35 nodes (0), 34 edges (0), time = 0.436ms.\n",
            "  arithmetic_optimizer: Graph size after: 35 nodes (0), 34 edges (0), time = 0.351ms.\n",
            "  dependency_optimizer: Graph size after: 35 nodes (0), 34 edges (0), time = 0.157ms.\n",
            "  model_pruner: Graph size after: 35 nodes (0), 34 edges (0), time = 0.109ms.\n",
            "  constant_folding: Graph size after: 35 nodes (0), 34 edges (0), time = 0.411ms.\n",
            "  arithmetic_optimizer: Graph size after: 35 nodes (0), 34 edges (0), time = 0.36ms.\n",
            "  dependency_optimizer: Graph size after: 35 nodes (0), 34 edges (0), time = 0.159ms.\n",
            "\n",
            "2021-07-14 08:18:47.762746: I tensorflow/core/grappler/optimizers/meta_optimizer.cc:1144] Optimization results for grappler item: graph_to_optimize\n",
            "  remapper: Graph size after: 28 nodes (-7), 27 edges (-7), time = 0.185ms.\n",
            "  constant_folding: Graph size after: 28 nodes (0), 27 edges (0), time = 0.587ms.\n",
            "  arithmetic_optimizer: Graph size after: 28 nodes (0), 27 edges (0), time = 0.305ms.\n",
            "  dependency_optimizer: Graph size after: 28 nodes (0), 27 edges (0), time = 0.156ms.\n",
            "  remapper: Graph size after: 28 nodes (0), 27 edges (0), time = 0.072ms.\n",
            "  constant_folding: Graph size after: 28 nodes (0), 27 edges (0), time = 0.368ms.\n",
            "  arithmetic_optimizer: Graph size after: 28 nodes (0), 27 edges (0), time = 0.314ms.\n",
            "  dependency_optimizer: Graph size after: 28 nodes (0), 27 edges (0), time = 0.149ms.\n",
            "\n",
            "Writing weight file ./tmp/tfjs_model/model.json...\n"
          ],
          "name": "stdout"
        }
      ]
    }
  ]
}